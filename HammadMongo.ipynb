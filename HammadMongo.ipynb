{
 "cells": [
  {
   "cell_type": "code",
   "execution_count": 1,
   "metadata": {
    "collapsed": true
   },
   "outputs": [],
   "source": [
    "import pandas as pd\n",
    "import ijson"
   ]
  },
  {
   "cell_type": "code",
   "execution_count": 63,
   "metadata": {
    "collapsed": true
   },
   "outputs": [],
   "source": [
    "#Retrieve data from json file\n",
    "file = \"dataset.json\"\n",
    "with open(file, 'r') as IO:\n",
    "    objects = ijson.items(IO, 'meta.view.columns.item.fieldName')\n",
    "    columnNames = list(objects)"
   ]
  },
  {
   "cell_type": "code",
   "execution_count": 77,
   "metadata": {},
   "outputs": [
    {
     "data": {
      "text/plain": [
       "[':sid',\n",
       " ':id',\n",
       " ':position',\n",
       " ':created_at',\n",
       " ':created_meta',\n",
       " ':updated_at',\n",
       " ':updated_meta',\n",
       " ':meta',\n",
       " 'date_of_stop',\n",
       " 'time_of_stop',\n",
       " 'agency',\n",
       " 'subagency',\n",
       " 'description',\n",
       " 'location',\n",
       " 'latitude',\n",
       " 'longitude',\n",
       " 'accident',\n",
       " 'belts',\n",
       " 'personal_injury',\n",
       " 'property_damage',\n",
       " 'fatal',\n",
       " 'commercial_license',\n",
       " 'hazmat',\n",
       " 'commercial_vehicle',\n",
       " 'alcohol',\n",
       " 'work_zone',\n",
       " 'state',\n",
       " 'vehicle_type',\n",
       " 'year',\n",
       " 'make',\n",
       " 'model',\n",
       " 'color',\n",
       " 'violation_type',\n",
       " 'charge',\n",
       " 'article',\n",
       " 'contributed_to_accident',\n",
       " 'race',\n",
       " 'gender',\n",
       " 'driver_city',\n",
       " 'driver_state',\n",
       " 'dl_state',\n",
       " 'arrest_type',\n",
       " 'geolocation']"
      ]
     },
     "execution_count": 77,
     "metadata": {},
     "output_type": "execute_result"
    }
   ],
   "source": [
    "#Get all column names\n",
    "columnNames"
   ]
  },
  {
   "cell_type": "code",
   "execution_count": 81,
   "metadata": {},
   "outputs": [
    {
     "data": {
      "text/plain": [
       "['date_of_stop',\n",
       " 'time_of_stop',\n",
       " 'agency',\n",
       " 'subagency',\n",
       " 'description',\n",
       " 'location',\n",
       " 'latitude',\n",
       " 'longitude',\n",
       " 'accident',\n",
       " 'belts',\n",
       " 'personal_injury',\n",
       " 'property_damage',\n",
       " 'fatal',\n",
       " 'commercial_license',\n",
       " 'hazmat',\n",
       " 'commercial_vehicle',\n",
       " 'alcohol',\n",
       " 'work_zone',\n",
       " 'state',\n",
       " 'vehicle_type',\n",
       " 'year',\n",
       " 'make',\n",
       " 'model',\n",
       " 'color',\n",
       " 'violation_type',\n",
       " 'charge',\n",
       " 'article',\n",
       " 'contributed_to_accident',\n",
       " 'race',\n",
       " 'gender',\n",
       " 'driver_city',\n",
       " 'driver_state',\n",
       " 'dl_state',\n",
       " 'arrest_type',\n",
       " 'geolocation']"
      ]
     },
     "execution_count": 81,
     "metadata": {},
     "output_type": "execute_result"
    }
   ],
   "source": [
    "#Extract clean column names from columnNames\n",
    "clean_names = [name for name in columnNames if (name[0] not in \":\")]\n",
    "clean_names"
   ]
  },
  {
   "cell_type": "code",
   "execution_count": 101,
   "metadata": {},
   "outputs": [],
   "source": [
    "with open(file, 'r') as IO:\n",
    "    objects = ijson.items(IO, 'data.item')\n",
    "    info = list(objects)"
   ]
  },
  {
   "cell_type": "code",
   "execution_count": 103,
   "metadata": {},
   "outputs": [
    {
     "data": {
      "text/plain": [
       "[2118167,\n",
       " 'EE8BC302-660F-48C4-B422-17427ECE821F',\n",
       " 2118167,\n",
       " 1482239054,\n",
       " '498050',\n",
       " 1482239054,\n",
       " '498050',\n",
       " None,\n",
       " '2013-09-24T00:00:00',\n",
       " '17:11:00',\n",
       " 'MCP',\n",
       " '3rd district, Silver Spring',\n",
       " 'DRIVING VEHICLE ON HIGHWAY WITH SUSPENDED REGISTRATION',\n",
       " '8804 FLOWER AVE',\n",
       " None,\n",
       " None,\n",
       " 'No',\n",
       " 'No',\n",
       " 'No',\n",
       " 'No',\n",
       " 'No',\n",
       " 'No',\n",
       " 'No',\n",
       " 'No',\n",
       " 'No',\n",
       " 'No',\n",
       " 'MD',\n",
       " '02 - Automobile',\n",
       " '2008',\n",
       " 'FORD',\n",
       " '4S',\n",
       " 'BLACK',\n",
       " 'Citation',\n",
       " '13-401(h)',\n",
       " 'Transportation Article',\n",
       " 'No',\n",
       " 'BLACK',\n",
       " 'M',\n",
       " 'TAKOMA PARK',\n",
       " 'MD',\n",
       " 'MD',\n",
       " 'A - Marked Patrol',\n",
       " [None, None, None, None, None]]"
      ]
     },
     "execution_count": 103,
     "metadata": {},
     "output_type": "execute_result"
    }
   ],
   "source": [
    "info[0]"
   ]
  },
  {
   "cell_type": "code",
   "execution_count": 104,
   "metadata": {
    "collapsed": true
   },
   "outputs": [],
   "source": [
    "dataframe = pd.DataFrame(data, columns=clean_names)"
   ]
  },
  {
   "cell_type": "code",
   "execution_count": 107,
   "metadata": {},
   "outputs": [
    {
     "data": {
      "text/plain": [
       "(842, 35)"
      ]
     },
     "execution_count": 107,
     "metadata": {},
     "output_type": "execute_result"
    }
   ],
   "source": [
    "dataframe.shape"
   ]
  },
  {
   "cell_type": "code",
   "execution_count": 110,
   "metadata": {
    "collapsed": true
   },
   "outputs": [],
   "source": [
    "dataframe.date_of_stop = pd.to_datetime(dataframe.date_of_stop)"
   ]
  },
  {
   "cell_type": "code",
   "execution_count": 115,
   "metadata": {},
   "outputs": [
    {
     "name": "stdout",
     "output_type": "stream",
     "text": [
      "Connected.\n"
     ]
    }
   ],
   "source": [
    "#Server connection with MongoClient\n",
    "from pymongo import MongoClient\n",
    "import json\n",
    "server_conn = MongoClient(host='localhost', port=27017)\n",
    "try:\n",
    "    server_conn.admin.command('ismaster')\n",
    "    print(\"Connected.\")\n",
    "except ConnectionFailure:\n",
    "    print(\"Server not available\")"
   ]
  },
  {
   "cell_type": "code",
   "execution_count": 116,
   "metadata": {},
   "outputs": [
    {
     "name": "stdout",
     "output_type": "stream",
     "text": [
      "Collection(Database(MongoClient(host=['localhost:27017'], document_class=dict, tz_aware=False, connect=True), 'traffic'), 'collections')\n"
     ]
    }
   ],
   "source": [
    "db = server_conn['traffic']\n",
    "collections = db.collections\n",
    "print(collections)"
   ]
  },
  {
   "cell_type": "code",
   "execution_count": 118,
   "metadata": {},
   "outputs": [
    {
     "data": {
      "text/plain": [
       "<pymongo.results.InsertManyResult at 0x7fae4d30ff78>"
      ]
     },
     "execution_count": 118,
     "metadata": {},
     "output_type": "execute_result"
    }
   ],
   "source": [
    "collections.insert_many(dataframe.to_dict('records'))"
   ]
  },
  {
   "cell_type": "code",
   "execution_count": 126,
   "metadata": {},
   "outputs": [],
   "source": [
    "queryColor = collections.aggregate(\n",
    "    [{\n",
    "        \"$group\" : \n",
    "        {\n",
    "            \"_id\":\"$color\", \"count\":\n",
    "            {\n",
    "                \"$sum\":1\n",
    "            }\n",
    "        }\n",
    "    }])"
   ]
  },
  {
   "cell_type": "code",
   "execution_count": 127,
   "metadata": {},
   "outputs": [
    {
     "name": "stdout",
     "output_type": "stream",
     "text": [
      "{'count': 1, '_id': 'BRONZE'}\n",
      "{'count': 2, '_id': 'BROWN'}\n",
      "{'count': 3, '_id': 'GREEN, LGT'}\n",
      "{'count': 13, '_id': 'MAROON'}\n",
      "{'count': 5, '_id': 'PURPLE'}\n",
      "{'count': 29, '_id': 'GOLD'}\n",
      "{'count': 3, '_id': 'CREAM'}\n",
      "{'count': 33, '_id': 'TAN'}\n",
      "{'count': 13, '_id': 'GREEN, DK'}\n",
      "{'count': 20, '_id': 'BLUE, LIGHT'}\n",
      "{'count': 43, '_id': 'GREEN'}\n",
      "{'count': 4, '_id': 'ORANGE'}\n",
      "{'count': 8, '_id': 'N/A'}\n",
      "{'count': 111, '_id': 'WHITE'}\n",
      "{'count': 67, '_id': 'BLUE'}\n",
      "{'count': 145, '_id': 'SILVER'}\n",
      "{'count': 21, '_id': 'BLUE, DARK'}\n",
      "{'count': 73, '_id': 'RED'}\n",
      "{'count': 76, '_id': 'GRAY'}\n",
      "{'count': 1, '_id': None}\n",
      "{'count': 159, '_id': 'BLACK'}\n",
      "{'count': 12, '_id': 'BEIGE'}\n"
     ]
    }
   ],
   "source": [
    "for cursor in queryColor:\n",
    "    print(cursor)"
   ]
  },
  {
   "cell_type": "code",
   "execution_count": 128,
   "metadata": {
    "collapsed": true
   },
   "outputs": [],
   "source": [
    "queryArrest = collections.aggregate(\n",
    "    [{\n",
    "        \"$group\" : \n",
    "        {\"_id\":\"$arrest_type\", \"count\":\n",
    "         {\n",
    "             \"$sum\":1\n",
    "         }\n",
    "        }\n",
    "    }])"
   ]
  },
  {
   "cell_type": "code",
   "execution_count": 129,
   "metadata": {},
   "outputs": [
    {
     "name": "stdout",
     "output_type": "stream",
     "text": [
      "{'count': 2, '_id': 'E - Marked Stationary Radar'}\n",
      "{'count': 2, '_id': 'S - License Plate Recognition'}\n",
      "{'count': 1, '_id': 'R - Unmarked Laser'}\n",
      "{'count': 1, '_id': 'L - Motorcycle'}\n",
      "{'count': 4, '_id': 'M - Marked (Off-Duty)'}\n",
      "{'count': 35, '_id': 'Q - Marked Laser'}\n",
      "{'count': 13, '_id': 'B - Unmarked Patrol'}\n",
      "{'count': 3, '_id': 'O - Foot Patrol'}\n",
      "{'count': 781, '_id': 'A - Marked Patrol'}\n"
     ]
    }
   ],
   "source": [
    "for cursor in queryArrest:\n",
    "    print(cursor)"
   ]
  },
  {
   "cell_type": "code",
   "execution_count": 131,
   "metadata": {
    "collapsed": true
   },
   "outputs": [],
   "source": [
    "queryDay=collections.aggregate(\n",
    "   [\n",
    "     {\n",
    "       \"$project\":\n",
    "         {\n",
    "           \"dayOfWeek\": { \"$dayOfWeek\": \"$date_of_stop\" },\n",
    "         }\n",
    "     }\n",
    "   ])"
   ]
  },
  {
   "cell_type": "code",
   "execution_count": 133,
   "metadata": {
    "scrolled": false
   },
   "outputs": [
    {
     "data": {
      "text/plain": [
       "<bound method NDFrame.head of                           _id accident agency alcohol        arrest_type  \\\n",
       "0    591593318dcfd926b4866d6e       No    MCP      No  A - Marked Patrol   \n",
       "1    591593318dcfd926b4866d6f       No    MCP      No  A - Marked Patrol   \n",
       "2    591593318dcfd926b4866d70       No    MCP      No  A - Marked Patrol   \n",
       "3    591593318dcfd926b4866d71       No    MCP      No  A - Marked Patrol   \n",
       "4    591593318dcfd926b4866d72       No    MCP      No  A - Marked Patrol   \n",
       "5    591593318dcfd926b4866d73       No    MCP      No  A - Marked Patrol   \n",
       "6    591593318dcfd926b4866d74       No    MCP      No  A - Marked Patrol   \n",
       "7    591593318dcfd926b4866d75       No    MCP      No  A - Marked Patrol   \n",
       "8    591593318dcfd926b4866d76       No    MCP      No  A - Marked Patrol   \n",
       "9    591593318dcfd926b4866d77       No    MCP      No  A - Marked Patrol   \n",
       "10   591593318dcfd926b4866d78       No    MCP      No  A - Marked Patrol   \n",
       "11   591593318dcfd926b4866d79       No    MCP      No  A - Marked Patrol   \n",
       "12   591593318dcfd926b4866d7a       No    MCP      No  A - Marked Patrol   \n",
       "13   591593318dcfd926b4866d7b       No    MCP      No  A - Marked Patrol   \n",
       "14   591593318dcfd926b4866d7c       No    MCP      No  A - Marked Patrol   \n",
       "15   591593318dcfd926b4866d7d       No    MCP      No  A - Marked Patrol   \n",
       "16   591593318dcfd926b4866d7e       No    MCP      No    O - Foot Patrol   \n",
       "17   591593318dcfd926b4866d7f       No    MCP      No  A - Marked Patrol   \n",
       "18   591593318dcfd926b4866d80       No    MCP      No  A - Marked Patrol   \n",
       "19   591593318dcfd926b4866d81       No    MCP      No  A - Marked Patrol   \n",
       "20   591593318dcfd926b4866d82       No    MCP      No  A - Marked Patrol   \n",
       "21   591593318dcfd926b4866d83       No    MCP      No  A - Marked Patrol   \n",
       "22   591593318dcfd926b4866d84       No    MCP      No  A - Marked Patrol   \n",
       "23   591593318dcfd926b4866d85       No    MCP      No  A - Marked Patrol   \n",
       "24   591593318dcfd926b4866d86       No    MCP      No   Q - Marked Laser   \n",
       "25   591593318dcfd926b4866d87       No    MCP      No  A - Marked Patrol   \n",
       "26   591593318dcfd926b4866d88       No    MCP      No  A - Marked Patrol   \n",
       "27   591593318dcfd926b4866d89       No    MCP      No  A - Marked Patrol   \n",
       "28   591593318dcfd926b4866d8a       No    MCP      No  A - Marked Patrol   \n",
       "29   591593318dcfd926b4866d8b       No    MCP      No  A - Marked Patrol   \n",
       "..                        ...      ...    ...     ...                ...   \n",
       "812  591593318dcfd926b486709a       No    MCP      No  A - Marked Patrol   \n",
       "813  591593318dcfd926b486709b       No    MCP      No  A - Marked Patrol   \n",
       "814  591593318dcfd926b486709c       No    MCP      No  A - Marked Patrol   \n",
       "815  591593318dcfd926b486709d       No    MCP      No  A - Marked Patrol   \n",
       "816  591593318dcfd926b486709e       No    MCP      No  A - Marked Patrol   \n",
       "817  591593318dcfd926b486709f       No    MCP      No  A - Marked Patrol   \n",
       "818  591593318dcfd926b48670a0       No    MCP      No  A - Marked Patrol   \n",
       "819  591593318dcfd926b48670a1       No    MCP      No  A - Marked Patrol   \n",
       "820  591593318dcfd926b48670a2       No    MCP      No  A - Marked Patrol   \n",
       "821  591593318dcfd926b48670a3       No    MCP      No  A - Marked Patrol   \n",
       "822  591593318dcfd926b48670a4       No    MCP      No  A - Marked Patrol   \n",
       "823  591593318dcfd926b48670a5       No    MCP      No  A - Marked Patrol   \n",
       "824  591593318dcfd926b48670a6       No    MCP      No  A - Marked Patrol   \n",
       "825  591593318dcfd926b48670a7       No    MCP      No  A - Marked Patrol   \n",
       "826  591593318dcfd926b48670a8       No    MCP      No  A - Marked Patrol   \n",
       "827  591593318dcfd926b48670a9       No    MCP      No  A - Marked Patrol   \n",
       "828  591593318dcfd926b48670aa       No    MCP      No  A - Marked Patrol   \n",
       "829  591593318dcfd926b48670ab       No    MCP      No  A - Marked Patrol   \n",
       "830  591593318dcfd926b48670ac       No    MCP      No  A - Marked Patrol   \n",
       "831  591593318dcfd926b48670ad       No    MCP      No  A - Marked Patrol   \n",
       "832  591593318dcfd926b48670ae       No    MCP      No  A - Marked Patrol   \n",
       "833  591593318dcfd926b48670af       No    MCP      No  A - Marked Patrol   \n",
       "834  591593318dcfd926b48670b0       No    MCP      No  A - Marked Patrol   \n",
       "835  591593318dcfd926b48670b1       No    MCP      No  A - Marked Patrol   \n",
       "836  591593318dcfd926b48670b2       No    MCP      No  A - Marked Patrol   \n",
       "837  591593318dcfd926b48670b3       No    MCP      No  A - Marked Patrol   \n",
       "838  591593318dcfd926b48670b4       No    MCP      No  A - Marked Patrol   \n",
       "839  591593318dcfd926b48670b5       No    MCP      No  A - Marked Patrol   \n",
       "840  591593318dcfd926b48670b6       No    MCP      No  A - Marked Patrol   \n",
       "841  591593318dcfd926b48670b7       No    MCP      No  A - Marked Patrol   \n",
       "\n",
       "                    article belts         charge        color  \\\n",
       "0    Transportation Article    No      13-401(h)        BLACK   \n",
       "1    Transportation Article    No     21-902(b1)         GRAY   \n",
       "2    Transportation Article    No      21-707(a)          RED   \n",
       "3    Transportation Article    No  21-1124.2(d2)       SILVER   \n",
       "4    Transportation Article    No      21-403(b)       SILVER   \n",
       "5    Transportation Article    No    22-412.3(b)       SILVER   \n",
       "6    Transportation Article   Yes      16-303(d)        BLACK   \n",
       "7    Transportation Article    No     21-902(a2)        WHITE   \n",
       "8    Transportation Article    No      16-303(h)       SILVER   \n",
       "9    Transportation Article    No    22-412.3(b)        BLACK   \n",
       "10   Transportation Article    No    21-901.1(b)         GRAY   \n",
       "11   Transportation Article    No      13-401(h)        BLACK   \n",
       "12   Transportation Article    No      21-204(b)        WHITE   \n",
       "13   Transportation Article    No      16-303(h)         GRAY   \n",
       "14   Transportation Article    No      21-311(1)        BLACK   \n",
       "15   Transportation Article    No      16-115(g)        WHITE   \n",
       "16   Transportation Article    No      21-503(c)          N/A   \n",
       "17   Transportation Article    No     21-902(a1)        GREEN   \n",
       "18   Transportation Article    No     21-201(a1)       SILVER   \n",
       "19   Transportation Article    No      13-411(a)       SILVER   \n",
       "20   Transportation Article    No      21-404(b)         GOLD   \n",
       "21   Transportation Article    No      21-707(a)       ORANGE   \n",
       "22   Transportation Article    No      13-401(h)   BLUE, DARK   \n",
       "23   Transportation Article    No      20-103(b)        BLACK   \n",
       "24   Transportation Article    No       21-801.1         GOLD   \n",
       "25   Transportation Article    No      16-303(d)        WHITE   \n",
       "26   Transportation Article    No      16-303(h)        WHITE   \n",
       "27   Transportation Article    No      21-402(a)         BLUE   \n",
       "28   Transportation Article    No      16-116(a)        BLACK   \n",
       "29   Transportation Article    No      16-115(g)        BLACK   \n",
       "..                      ...   ...            ...          ...   \n",
       "812  Transportation Article    No      13-411(g)         BLUE   \n",
       "813  Transportation Article    No      13-409(b)        BLACK   \n",
       "814  Transportation Article    No    22-412.3(b)         GRAY   \n",
       "815  Transportation Article    No    22-412.3(b)        WHITE   \n",
       "816  Transportation Article    No     21-902(a2)        BLACK   \n",
       "817  Transportation Article    No      21-301(a)          RED   \n",
       "818  Transportation Article    No      16-303(h)        BLACK   \n",
       "819  Transportation Article    No      16-303(c)         GOLD   \n",
       "820  Transportation Article    No       22-201.1       SILVER   \n",
       "821  Transportation Article    No      13-409(b)          RED   \n",
       "822  Transportation Article    No      20-103(a)         BLUE   \n",
       "823  Transportation Article    No      16-303(h)          RED   \n",
       "824  Transportation Article    No      21-801(b)        BLACK   \n",
       "825  Transportation Article    No     21-902(a1)       ORANGE   \n",
       "826  Transportation Article    No     21-904(b3)        GREEN   \n",
       "827  Transportation Article    No     16-105(b2)       MAROON   \n",
       "828  Transportation Article    No      21-314(b)       SILVER   \n",
       "829  Transportation Article    No      21-707(a)         BLUE   \n",
       "830  Transportation Article    No      16-112(c)       SILVER   \n",
       "831  Transportation Article    No     21-201(a1)         BLUE   \n",
       "832  Transportation Article    No       20-105.1       SILVER   \n",
       "833  Transportation Article    No      13-411(d)  BLUE, LIGHT   \n",
       "834  Transportation Article    No      13-401(h)       SILVER   \n",
       "835  Transportation Article    No      16-303(h)   BLUE, DARK   \n",
       "836  Transportation Article    No      16-303(c)       SILVER   \n",
       "837  Transportation Article    No      16-112(c)       ORANGE   \n",
       "838  Transportation Article    No      16-112(c)        WHITE   \n",
       "839  Transportation Article    No       21-801.1         GRAY   \n",
       "840  Transportation Article    No      16-301(j)       SILVER   \n",
       "841                    None    No            56*          TAN   \n",
       "\n",
       "    commercial_license  ...  personal_injury property_damage      race state  \\\n",
       "0                   No  ...               No              No     BLACK    MD   \n",
       "1                   No  ...               No              No     WHITE    MD   \n",
       "2                   No  ...               No              No     ASIAN    MD   \n",
       "3                   No  ...               No              No  HISPANIC    VA   \n",
       "4                   No  ...               No             Yes     BLACK    MD   \n",
       "5                   No  ...               No              No     WHITE    MD   \n",
       "6                   No  ...               No              No     BLACK    MD   \n",
       "7                   No  ...               No              No     BLACK    MD   \n",
       "8                   No  ...               No              No     WHITE    MD   \n",
       "9                   No  ...               No              No     BLACK    MD   \n",
       "10                  No  ...               No              No     WHITE    MD   \n",
       "11                  No  ...               No              No  HISPANIC    MD   \n",
       "12                  No  ...               No              No  HISPANIC    VA   \n",
       "13                  No  ...               No              No  HISPANIC    MD   \n",
       "14                  No  ...               No              No     WHITE    MD   \n",
       "15                  No  ...               No              No     BLACK    MD   \n",
       "16                  No  ...               No              No  HISPANIC    XX   \n",
       "17                  No  ...               No              No     WHITE    MD   \n",
       "18                  No  ...               No              No     BLACK    VA   \n",
       "19                  No  ...               No              No     BLACK    MD   \n",
       "20                  No  ...               No              No     BLACK    MD   \n",
       "21                  No  ...               No              No     BLACK    MD   \n",
       "22                  No  ...               No              No     ASIAN    MD   \n",
       "23                  No  ...               No              No     BLACK    MD   \n",
       "24                  No  ...               No              No     OTHER    MD   \n",
       "25                  No  ...               No              No  HISPANIC    VA   \n",
       "26                  No  ...               No              No     WHITE    MD   \n",
       "27                 Yes  ...               No              No     BLACK    MD   \n",
       "28                  No  ...               No              No     WHITE    MD   \n",
       "29                 Yes  ...               No              No     BLACK    MD   \n",
       "..                 ...  ...              ...             ...       ...   ...   \n",
       "812                 No  ...               No              No     WHITE    MD   \n",
       "813                 No  ...               No              No     WHITE    MD   \n",
       "814                 No  ...               No              No  HISPANIC    MD   \n",
       "815                 No  ...               No              No     OTHER    VA   \n",
       "816                 No  ...               No             Yes  HISPANIC    MD   \n",
       "817                 No  ...               No              No  HISPANIC    MD   \n",
       "818                 No  ...               No              No     BLACK    FL   \n",
       "819                 No  ...               No              No     WHITE    MD   \n",
       "820                 No  ...               No              No     BLACK    MD   \n",
       "821                 No  ...               No              No     WHITE    MD   \n",
       "822                 No  ...               No              No     WHITE    MD   \n",
       "823                 No  ...               No              No     BLACK    MD   \n",
       "824                 No  ...               No              No  HISPANIC    MD   \n",
       "825                 No  ...               No              No     BLACK    VA   \n",
       "826                 No  ...               No              No     BLACK    MD   \n",
       "827                 No  ...               No              No     BLACK    MD   \n",
       "828                 No  ...               No              No     BLACK    MD   \n",
       "829                 No  ...               No              No     WHITE    MD   \n",
       "830                 No  ...               No              No  HISPANIC    MD   \n",
       "831                 No  ...               No              No     ASIAN    MD   \n",
       "832                 No  ...               No             Yes  HISPANIC    MD   \n",
       "833                 No  ...               No              No  HISPANIC    MD   \n",
       "834                 No  ...               No              No     WHITE    MD   \n",
       "835                 No  ...               No              No     WHITE    MD   \n",
       "836                 No  ...               No              No     BLACK    MD   \n",
       "837                 No  ...               No              No     WHITE    MD   \n",
       "838                 No  ...               No              No     WHITE    MD   \n",
       "839                 No  ...               No              No     WHITE    MD   \n",
       "840                 No  ...               No              No     WHITE    MD   \n",
       "841                 No  ...               No              No     BLACK    MD   \n",
       "\n",
       "                                           subagency time_of_stop  \\\n",
       "0                        3rd district, Silver Spring     17:11:00   \n",
       "1                             2nd district, Bethesda     00:41:00   \n",
       "2                           5th district, Germantown     23:12:00   \n",
       "3                             2nd district, Bethesda     16:10:00   \n",
       "4    6th district, Gaithersburg / Montgomery Village     12:52:00   \n",
       "5                        3rd district, Silver Spring     21:19:00   \n",
       "6                              4th district, Wheaton     21:47:00   \n",
       "7                              4th district, Wheaton     01:14:00   \n",
       "8                           5th district, Germantown     00:04:00   \n",
       "9                             2nd district, Bethesda     16:47:00   \n",
       "10                            2nd district, Bethesda     00:55:00   \n",
       "11                             4th district, Wheaton     13:23:00   \n",
       "12                           1st district, Rockville     00:38:00   \n",
       "13                           1st district, Rockville     20:56:00   \n",
       "14                           1st district, Rockville     20:10:00   \n",
       "15                       3rd district, Silver Spring     22:22:00   \n",
       "16               Headquarters and Special Operations     12:34:00   \n",
       "17                           1st district, Rockville     18:36:00   \n",
       "18                       3rd district, Silver Spring     21:24:00   \n",
       "19                             4th district, Wheaton     23:15:00   \n",
       "20   6th district, Gaithersburg / Montgomery Village     17:41:00   \n",
       "21                       3rd district, Silver Spring     19:13:00   \n",
       "22                             4th district, Wheaton     17:38:00   \n",
       "23                          5th district, Germantown     13:15:00   \n",
       "24                             4th district, Wheaton     08:53:00   \n",
       "25                           1st district, Rockville     08:26:00   \n",
       "26                           1st district, Rockville     07:47:00   \n",
       "27                            2nd district, Bethesda     08:53:00   \n",
       "28                       3rd district, Silver Spring     10:20:00   \n",
       "29                       3rd district, Silver Spring     11:17:00   \n",
       "..                                               ...          ...   \n",
       "812  6th district, Gaithersburg / Montgomery Village     12:05:00   \n",
       "813                            4th district, Wheaton     23:25:00   \n",
       "814                         5th district, Germantown     20:12:00   \n",
       "815                           2nd district, Bethesda     19:11:00   \n",
       "816                      3rd district, Silver Spring     02:44:00   \n",
       "817                            4th district, Wheaton     01:03:00   \n",
       "818                            4th district, Wheaton     03:40:00   \n",
       "819  6th district, Gaithersburg / Montgomery Village     09:01:00   \n",
       "820                          1st district, Rockville     22:43:00   \n",
       "821                          1st district, Rockville     20:14:00   \n",
       "822  6th district, Gaithersburg / Montgomery Village     12:51:00   \n",
       "823                            4th district, Wheaton     22:33:00   \n",
       "824                            4th district, Wheaton     18:32:00   \n",
       "825                         5th district, Germantown     01:49:00   \n",
       "826                         5th district, Germantown     13:00:00   \n",
       "827                      3rd district, Silver Spring     22:07:00   \n",
       "828                           2nd district, Bethesda     08:20:00   \n",
       "829                            4th district, Wheaton     15:04:00   \n",
       "830                      3rd district, Silver Spring     09:17:00   \n",
       "831                           2nd district, Bethesda     02:09:00   \n",
       "832                            4th district, Wheaton     11:45:00   \n",
       "833                           2nd district, Bethesda     21:43:00   \n",
       "834                      3rd district, Silver Spring     09:42:00   \n",
       "835                            4th district, Wheaton     19:36:00   \n",
       "836                      3rd district, Silver Spring     10:30:00   \n",
       "837                         5th district, Germantown     00:14:00   \n",
       "838                          1st district, Rockville     19:37:00   \n",
       "839                          1st district, Rockville     23:15:00   \n",
       "840                           2nd district, Bethesda     21:29:00   \n",
       "841                            4th district, Wheaton     09:04:00   \n",
       "\n",
       "              vehicle_type violation_type work_zone  year  \n",
       "0          02 - Automobile       Citation        No  2008  \n",
       "1          02 - Automobile       Citation        No  2005  \n",
       "2          02 - Automobile       Citation        No  2002  \n",
       "3          02 - Automobile       Citation        No  1996  \n",
       "4          02 - Automobile       Citation        No  2001  \n",
       "5          02 - Automobile       Citation        No  2004  \n",
       "6          02 - Automobile       Citation        No  2009  \n",
       "7          02 - Automobile       Citation        No  2003  \n",
       "8          02 - Automobile       Citation        No  2004  \n",
       "9    05 - Light Duty Truck       Citation        No  2005  \n",
       "10         02 - Automobile       Citation        No  2013  \n",
       "11         02 - Automobile       Citation        No  1993  \n",
       "12         02 - Automobile       Citation        No  2003  \n",
       "13         02 - Automobile       Citation        No  2013  \n",
       "14         02 - Automobile       Citation        No  2005  \n",
       "15         02 - Automobile       Citation        No  2004  \n",
       "16            29 - Unknown       Citation        No  None  \n",
       "17         02 - Automobile       Citation        No  2011  \n",
       "18         02 - Automobile       Citation        No  2013  \n",
       "19         02 - Automobile       Citation        No  2000  \n",
       "20         02 - Automobile       Citation        No  2003  \n",
       "21         02 - Automobile       Citation        No  2011  \n",
       "22         02 - Automobile       Citation        No  2006  \n",
       "23         02 - Automobile       Citation        No  2005  \n",
       "24         02 - Automobile       Citation        No  2004  \n",
       "25              28 - Other       Citation        No  2002  \n",
       "26         02 - Automobile       Citation        No  2000  \n",
       "27        10 - Transit Bus       Citation        No  2012  \n",
       "28         02 - Automobile       Citation        No  1999  \n",
       "29         02 - Automobile       Citation        No  1991  \n",
       "..                     ...            ...       ...   ...  \n",
       "812        02 - Automobile       Citation        No  2014  \n",
       "813        02 - Automobile       Citation        No  2004  \n",
       "814  05 - Light Duty Truck       Citation        No  2005  \n",
       "815        02 - Automobile       Citation        No  2011  \n",
       "816        02 - Automobile       Citation        No  2008  \n",
       "817  05 - Light Duty Truck       Citation        No  2008  \n",
       "818        02 - Automobile       Citation        No  2013  \n",
       "819        02 - Automobile       Citation        No  2008  \n",
       "820        02 - Automobile       Citation        No  2004  \n",
       "821        02 - Automobile       Citation        No  2011  \n",
       "822        02 - Automobile       Citation        No  2005  \n",
       "823        02 - Automobile       Citation        No  2003  \n",
       "824        02 - Automobile       Citation        No  1997  \n",
       "825  06 - Heavy Duty Truck       Citation        No  2000  \n",
       "826        02 - Automobile       Citation        No  2007  \n",
       "827        02 - Automobile       Citation        No  2001  \n",
       "828        02 - Automobile       Citation        No  2003  \n",
       "829        02 - Automobile       Citation        No  2007  \n",
       "830        02 - Automobile       Citation        No  2001  \n",
       "831        02 - Automobile       Citation        No  2007  \n",
       "832        02 - Automobile       Citation        No  2002  \n",
       "833        02 - Automobile       Citation        No  2009  \n",
       "834        02 - Automobile       Citation        No  2002  \n",
       "835        02 - Automobile       Citation        No  2006  \n",
       "836        02 - Automobile       Citation        No  1997  \n",
       "837        02 - Automobile       Citation        No  2014  \n",
       "838        02 - Automobile       Citation        No  2013  \n",
       "839        02 - Automobile       Citation        No  2015  \n",
       "840        02 - Automobile       Citation        No  2005  \n",
       "841        02 - Automobile          ESERO        No  2001  \n",
       "\n",
       "[842 rows x 36 columns]>"
      ]
     },
     "execution_count": 133,
     "metadata": {},
     "output_type": "execute_result"
    }
   ],
   "source": [
    "data_chunk = pd.DataFrame(list(collections.find()))\n",
    "data_chunk.head"
   ]
  },
  {
   "cell_type": "code",
   "execution_count": 134,
   "metadata": {
    "collapsed": true
   },
   "outputs": [],
   "source": [
    "#Close Server Connection\n",
    "server_conn.close()"
   ]
  },
  {
   "cell_type": "code",
   "execution_count": 137,
   "metadata": {},
   "outputs": [
    {
     "name": "stdout",
     "output_type": "stream",
     "text": [
      "4    133\n",
      "0    130\n",
      "1    129\n",
      "3    128\n",
      "6    113\n",
      "5    113\n",
      "2     96\n",
      "Name: date_of_stop, dtype: int64\n"
     ]
    }
   ],
   "source": [
    "print(data_chunk.date_of_stop.dt.dayofweek.value_counts())"
   ]
  }
 ],
 "metadata": {
  "kernelspec": {
   "display_name": "Python 3",
   "language": "python",
   "name": "python3"
  },
  "language_info": {
   "codemirror_mode": {
    "name": "ipython",
    "version": 3
   },
   "file_extension": ".py",
   "mimetype": "text/x-python",
   "name": "python",
   "nbconvert_exporter": "python",
   "pygments_lexer": "ipython3",
   "version": "3.5.2"
  }
 },
 "nbformat": 4,
 "nbformat_minor": 2
}
